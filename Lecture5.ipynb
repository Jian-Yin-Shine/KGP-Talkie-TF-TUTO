{
  "nbformat": 4,
  "nbformat_minor": 0,
  "metadata": {
    "colab": {
      "name": "Lecture5.ipynb",
      "provenance": [],
      "collapsed_sections": [],
      "toc_visible": true
    },
    "kernelspec": {
      "name": "python3",
      "display_name": "Python 3"
    }
  },
  "cells": [
    {
      "cell_type": "markdown",
      "metadata": {
        "id": "VhTjYbl6pFsG",
        "colab_type": "text"
      },
      "source": [
        "### 从Kaggle下载数据"
      ]
    },
    {
      "cell_type": "markdown",
      "metadata": {
        "id": "7ioQLgRbtLxn",
        "colab_type": "text"
      },
      "source": [
        "- 上传kaggle.json\n",
        "- 接受kaggle的规则\n",
        "- 下载数据集"
      ]
    },
    {
      "cell_type": "code",
      "metadata": {
        "id": "-tGjDOE_tLOA",
        "colab_type": "code",
        "colab": {}
      },
      "source": [
        "!pip install -q kaggle"
      ],
      "execution_count": 0,
      "outputs": []
    },
    {
      "cell_type": "code",
      "metadata": {
        "id": "ykgM9WqypMO8",
        "colab_type": "code",
        "colab": {}
      },
      "source": [
        "!mkdir -p ~/.kaggle"
      ],
      "execution_count": 0,
      "outputs": []
    },
    {
      "cell_type": "code",
      "metadata": {
        "id": "OC92BnhnpP2K",
        "colab_type": "code",
        "colab": {}
      },
      "source": [
        "!cp kaggle.json ~/.kaggle/"
      ],
      "execution_count": 0,
      "outputs": []
    },
    {
      "cell_type": "code",
      "metadata": {
        "id": "pXKocIS0pP4v",
        "colab_type": "code",
        "colab": {}
      },
      "source": [
        "!chmod 600 ~/.kaggle/kaggle.json "
      ],
      "execution_count": 0,
      "outputs": []
    },
    {
      "cell_type": "code",
      "metadata": {
        "id": "qQMLUY4gpP8E",
        "colab_type": "code",
        "colab": {
          "base_uri": "https://localhost:8080/",
          "height": 207
        },
        "outputId": "da386b31-e883-47bf-f4cd-0dc1025a8846"
      },
      "source": [
        "!kaggle competitions download -c dogs-vs-cats"
      ],
      "execution_count": 5,
      "outputs": [
        {
          "output_type": "stream",
          "text": [
            "Warning: Looks like you're using an outdated API Version, please consider updating (server 1.5.6 / client 1.5.4)\n",
            "Downloading sampleSubmission.csv to /content\n",
            "\r  0% 0.00/86.8k [00:00<?, ?B/s]\n",
            "100% 86.8k/86.8k [00:00<00:00, 26.0MB/s]\n",
            "Downloading test1.zip to /content\n",
            " 98% 266M/271M [00:01<00:00, 191MB/s]\n",
            "100% 271M/271M [00:01<00:00, 160MB/s]\n",
            "Downloading train.zip to /content\n",
            " 97% 527M/543M [00:03<00:00, 184MB/s]\n",
            "100% 543M/543M [00:03<00:00, 177MB/s]\n"
          ],
          "name": "stdout"
        }
      ]
    },
    {
      "cell_type": "code",
      "metadata": {
        "id": "y8x2WMdupQBQ",
        "colab_type": "code",
        "colab": {
          "base_uri": "https://localhost:8080/",
          "height": 428
        },
        "outputId": "c5563de0-9e2b-468d-c2b4-1511138354d0"
      },
      "source": [
        "!kaggle datasets list"
      ],
      "execution_count": 6,
      "outputs": [
        {
          "output_type": "stream",
          "text": [
            "Warning: Looks like you're using an outdated API Version, please consider updating (server 1.5.6 / client 1.5.4)\n",
            "ref                                                         title                                                size  lastUpdated          downloadCount  \n",
            "----------------------------------------------------------  --------------------------------------------------  -----  -------------------  -------------  \n",
            "allen-institute-for-ai/CORD-19-research-challenge           COVID-19 Open Research Dataset Challenge (CORD-19)    2GB  2020-05-02 20:35:01          64180  \n",
            "divyansh22/us-border-crossing-data                          US Border Crossing Data                               2MB  2020-04-19 09:38:10           1690  \n",
            "roche-data-science-coalition/uncover                        UNCOVER COVID-19 Challenge                          142MB  2020-04-29 22:47:23           7924  \n",
            "baltacifatih/turkish-lira-banknote-dataset                  Turkish Lira Banknote Dataset                         3GB  2020-04-19 14:48:39            182  \n",
            "doaaalsenani/usa-cers-dataset                               US Cars Dataset                                      66KB  2020-04-22 14:38:05           3057  \n",
            "justinas/housing-in-london                                  Housing in London                                   169KB  2020-04-29 18:43:38           1812  \n",
            "steveahn/memory-test-on-drugged-islanders-data              Memory Test on Drugged Islanders Data                 3KB  2019-08-20 18:54:37            903  \n",
            "ankurzing/sentiment-analysis-for-financial-news             Sentiment Analysis for Financial News               904KB  2020-04-26 18:41:22            566  \n",
            "slayomer/forbes-celebrity-100-since-2005                    Forbes Celebrity 100 since 2005 (for Racing Bar)     12KB  2020-04-26 15:51:16            383  \n",
            "phiitm/reddit-india-flair-detector                          Reddit India Flair Detector                          48MB  2020-04-27 20:27:24            103  \n",
            "mariaren/covid19-healthy-diet-dataset                       COVID-19 Healthy Diet Dataset                        82KB  2020-05-10 23:35:00           1436  \n",
            "marcelopesse/cartier-jewelry-catalog                        Cartier Jewelry - Catalog                            22KB  2020-04-27 05:03:23            190  \n",
            "jessemostipak/animal-crossing                               Animal Crossing                                     754KB  2020-05-04 15:30:32            200  \n",
            "benroshan/factors-affecting-campus-placement                Campus Recruitment                                    5KB  2020-04-11 11:09:02           3490  \n",
            "bobbyscience/league-of-legends-diamond-ranked-games-10-min  League of Legends Diamond Ranked Games (10 min)     539KB  2020-04-13 13:53:02           1668  \n",
            "fireballbyedimyrnmom/us-counties-covid-19-dataset           US counties COVID 19 dataset                          1MB  2020-05-11 12:03:27           6291  \n",
            "divyansh22/flight-delay-prediction                          January Flight Delay Prediction                      23MB  2020-04-14 13:15:41           1351  \n",
            "clmentbisaillon/fake-and-real-news-dataset                  Fake and real news dataset                           41MB  2020-03-26 18:51:15           3541  \n",
            "ikiulian/global-hospital-beds-capacity-for-covid19          Global Hospital Beds Capacity (for covid-19)        284KB  2020-04-26 09:39:35           1625  \n",
            "praveengovi/coronahack-chest-xraydataset                    CoronaHack -Chest X-Ray-Dataset                       1GB  2020-03-20 01:26:40           2246  \n"
          ],
          "name": "stdout"
        }
      ]
    },
    {
      "cell_type": "code",
      "metadata": {
        "id": "msCpkY2npQDx",
        "colab_type": "code",
        "colab": {}
      },
      "source": [
        "import pandas as pd"
      ],
      "execution_count": 0,
      "outputs": []
    },
    {
      "cell_type": "code",
      "metadata": {
        "id": "iQHe47dHpQGN",
        "colab_type": "code",
        "colab": {
          "base_uri": "https://localhost:8080/",
          "height": 419
        },
        "outputId": "3d496284-5f92-4492-983b-4bb6a00fd2c3"
      },
      "source": [
        "pd.read_csv('sampleSubmission.csv')"
      ],
      "execution_count": 8,
      "outputs": [
        {
          "output_type": "execute_result",
          "data": {
            "text/html": [
              "<div>\n",
              "<style scoped>\n",
              "    .dataframe tbody tr th:only-of-type {\n",
              "        vertical-align: middle;\n",
              "    }\n",
              "\n",
              "    .dataframe tbody tr th {\n",
              "        vertical-align: top;\n",
              "    }\n",
              "\n",
              "    .dataframe thead th {\n",
              "        text-align: right;\n",
              "    }\n",
              "</style>\n",
              "<table border=\"1\" class=\"dataframe\">\n",
              "  <thead>\n",
              "    <tr style=\"text-align: right;\">\n",
              "      <th></th>\n",
              "      <th>id</th>\n",
              "      <th>label</th>\n",
              "    </tr>\n",
              "  </thead>\n",
              "  <tbody>\n",
              "    <tr>\n",
              "      <th>0</th>\n",
              "      <td>1</td>\n",
              "      <td>0</td>\n",
              "    </tr>\n",
              "    <tr>\n",
              "      <th>1</th>\n",
              "      <td>2</td>\n",
              "      <td>0</td>\n",
              "    </tr>\n",
              "    <tr>\n",
              "      <th>2</th>\n",
              "      <td>3</td>\n",
              "      <td>0</td>\n",
              "    </tr>\n",
              "    <tr>\n",
              "      <th>3</th>\n",
              "      <td>4</td>\n",
              "      <td>0</td>\n",
              "    </tr>\n",
              "    <tr>\n",
              "      <th>4</th>\n",
              "      <td>5</td>\n",
              "      <td>0</td>\n",
              "    </tr>\n",
              "    <tr>\n",
              "      <th>...</th>\n",
              "      <td>...</td>\n",
              "      <td>...</td>\n",
              "    </tr>\n",
              "    <tr>\n",
              "      <th>12495</th>\n",
              "      <td>12496</td>\n",
              "      <td>0</td>\n",
              "    </tr>\n",
              "    <tr>\n",
              "      <th>12496</th>\n",
              "      <td>12497</td>\n",
              "      <td>0</td>\n",
              "    </tr>\n",
              "    <tr>\n",
              "      <th>12497</th>\n",
              "      <td>12498</td>\n",
              "      <td>0</td>\n",
              "    </tr>\n",
              "    <tr>\n",
              "      <th>12498</th>\n",
              "      <td>12499</td>\n",
              "      <td>0</td>\n",
              "    </tr>\n",
              "    <tr>\n",
              "      <th>12499</th>\n",
              "      <td>12500</td>\n",
              "      <td>0</td>\n",
              "    </tr>\n",
              "  </tbody>\n",
              "</table>\n",
              "<p>12500 rows × 2 columns</p>\n",
              "</div>"
            ],
            "text/plain": [
              "          id  label\n",
              "0          1      0\n",
              "1          2      0\n",
              "2          3      0\n",
              "3          4      0\n",
              "4          5      0\n",
              "...      ...    ...\n",
              "12495  12496      0\n",
              "12496  12497      0\n",
              "12497  12498      0\n",
              "12498  12499      0\n",
              "12499  12500      0\n",
              "\n",
              "[12500 rows x 2 columns]"
            ]
          },
          "metadata": {
            "tags": []
          },
          "execution_count": 8
        }
      ]
    }
  ]
}